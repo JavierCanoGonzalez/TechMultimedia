{
 "cells": [
  {
   "cell_type": "markdown",
   "id": "2215a46a-714b-4342-9631-45f0d0d27a64",
   "metadata": {
    "editable": true,
    "slideshow": {
     "slide_type": ""
    },
    "tags": []
   },
   "source": [
    "# Presentación del Código y NAT Traversal"
   ]
  },
  {
   "cell_type": "markdown",
   "id": "1fe16ba2-6f32-47c1-a1ce-5070c72d60df",
   "metadata": {
    "editable": true,
    "slideshow": {
     "slide_type": "slide"
    },
    "tags": []
   },
   "source": [
    "## Teoría de NAT Traversal"
   ]
  },
  {
   "cell_type": "markdown",
   "id": "7f60b401-4689-4447-80d0-e86c99230396",
   "metadata": {
    "editable": true,
    "slideshow": {
     "slide_type": "subslide"
    },
    "tags": []
   },
   "source": [
    "### ¿Qué es NAT?\n",
    "\n",
    "- Network Address Translation (NAT) es una técnica que permite que varios dispositivos compartan una única dirección IP pública.\n",
    "\n",
    "- Esto es común en redes domésticas y corporativas para preservar direcciones IP públicas."
   ]
  },
  {
   "cell_type": "markdown",
   "id": "1570927d-715b-4211-afe3-b3acbcfd17bb",
   "metadata": {
    "editable": true,
    "slideshow": {
     "slide_type": "subslide"
    },
    "tags": []
   },
   "source": [
    "### Desafío de NAT\n",
    "\n",
    "- NAT puede dificultar la comunicación punto a punto debido a la ocultación de direcciones IP internas.\n",
    "\n",
    "- Resolver este desafío es crucial para aplicaciones de voz sobre IP y otras comunicaciones en tiempo real."
   ]
  },
  {
   "cell_type": "markdown",
   "id": "72ba5203-af4a-46f1-ad0e-ab587cd80353",
   "metadata": {
    "editable": true,
    "slideshow": {
     "slide_type": "subslide"
    },
    "tags": []
   },
   "source": [
    "### NAT Traversal\n",
    "\n",
    "- NAT Traversal se refiere a las técnicas utilizadas para sortear las restricciones de NAT y establecer comunicaciones directas entre dispositivos detrás de NAT.\n",
    "\n",
    "- Algunas técnicas comunes incluyen STUN, TURN y ICE."
   ]
  },
  {
   "cell_type": "markdown",
   "id": "d72f80eb-a9d4-426e-aa75-b179c671a73d",
   "metadata": {
    "editable": true,
    "slideshow": {
     "slide_type": "slide"
    },
    "tags": []
   },
   "source": [
    "## Código a realizar\n",
    "\n",
    " Determinar (y mostrar) el end-point externo (público) del dispositivo NAT cuando se ejecuta NAT_traversal.py, clasificar (y mostrar) la clasificación de tu dispositivo NAT..\""
   ]
  },
  {
   "cell_type": "markdown",
   "id": "a4445fbc-3f4b-4318-8fdf-7050c01e6f66",
   "metadata": {
    "editable": true,
    "slideshow": {
     "slide_type": "subslide"
    },
    "tags": []
   },
   "source": [
    "### Clasificación de NAT (fundamentos)"
   ]
  },
  {
   "cell_type": "markdown",
   "id": "c2e730ad-f32a-4dea-8c9d-11350857c76b",
   "metadata": {
    "editable": true,
    "jp-MarkdownHeadingCollapsed": true,
    "slideshow": {
     "slide_type": "fragment"
    },
    "tags": []
   },
   "source": [
    "**Dependiendo de cómo se acepta (o no) el tráfico entrante, los NAT se clasifican de la siguiente manera:**\n",
    "\n",
    "- EIF (Filtrado Independiente del Punto Final): cuando los paquetes entrantes se reenvían sin restricciones adicionales. Esto se utiliza en dispositivos NAT de tipo Full Cone.\n",
    "\n",
    "- ARF (Filtrado con Restricción de Dirección): cuando solo se reenvían los paquetes entrantes que tienen la misma dirección IP externa que la registrada en el registro de Traducción de Tráfico (TT) correspondiente al punto final interno. Esta política se utiliza en dispositivos NAT de tipo (Address) Restringido.\n",
    "\n",
    "- ERF (Filtrado con Restricción del Punto Final): cuando solo se reenvían los paquetes entrantes externos que tienen el mismo punto final externo que el registrado en el registro TT correspondiente al punto final interno. Esta política se utiliza en dispositivos NAT de tipo Port Restricted Cone (PRCN) y NAT Simétrico."
   ]
  },
  {
   "cell_type": "markdown",
   "id": "325cd592-f793-42d6-8172-4f1a6c10810e",
   "metadata": {
    "editable": true,
    "slideshow": {
     "slide_type": "subslide"
    },
    "tags": []
   },
   "source": [
    "### `NAT_STUN()`\n",
    "\n",
    "- Utiliza la biblioteca `stun` para obtener información sobre el tipo de NAT y la IP externa.\n",
    "- Registra el puerto externo, la IP externa y el tipo de NAT para cada punto final."
   ]
  },
  {
   "cell_type": "code",
   "execution_count": 2,
   "id": "b1e8d34f-a1ce-4efc-bb3f-085b4e91bde8",
   "metadata": {
    "editable": true,
    "slideshow": {
     "slide_type": "fragment"
    },
    "tags": []
   },
   "outputs": [],
   "source": [
    "def NAT_STUN():\n",
    "    with open(\"lista_ip.txt\") as archivo:\n",
    "        for linea in archivo:\n",
    "            ip = linea.strip()\n",
    "            nat_type, external_ip, external_port = stun.get_ip_info(stun_host=ip)\n",
    "            print(f\"Puerto Externo: {external_port}, \"\n",
    "                  f\"IP Externa: {external_ip}, \"\n",
    "                  f\"End-Point: {external_ip}:{external_port}, \"\n",
    "                  f\"Tipo de NAT: {nat_type}\")\n",
    "            endPoint = (external_ip, external_port)    \n",
    "            if (type(external_ip)==int and type(external_port)==int):\n",
    "                NAT_Traversal.endPoints.append(endPoint)\n",
    "    archivo.close()"
   ]
  },
  {
   "cell_type": "markdown",
   "id": "b0a4b602-fd6b-4d48-8b02-058bedc1bf71",
   "metadata": {
    "editable": true,
    "slideshow": {
     "slide_type": "subslide"
    },
    "tags": []
   },
   "source": [
    "### `NAT_TYPE()`\n",
    "\n",
    "- Compara los tipos de NAT de los puntos finales.\n",
    "- Informa si el NAT es abierto (Full Cone) o simétrico."
   ]
  },
  {
   "cell_type": "code",
   "execution_count": 4,
   "id": "b68af883-5a5b-4f63-82fe-f52c0ecc82c1",
   "metadata": {
    "editable": true,
    "slideshow": {
     "slide_type": "fragment"
    },
    "tags": []
   },
   "outputs": [],
   "source": [
    "def NAT_TYPE():\n",
    "    if all(endPoint == NAT_Traversal.endPoints[0] for endPoint in NAT_Traversal.endPoints):\n",
    "        print(\"NAT abierto (Full Cone)\")\n",
    "        print(\"Puede establecer conexion con otro dispositivo. Para ello ejecute el siguiente comando\")\n",
    "        print(\"python3 NAT-traversal -l \\'puerto de escucha\\' -a \\'ip de destino\\' -p \\'puerto de destino\\'\")     \n",
    "    else:\n",
    "        print(\"NAT simetrico\")\n",
    "        print(\"No puede establecer conexion con otro dispositivo.\")"
   ]
  },
  {
   "cell_type": "markdown",
   "id": "eaf00a67-5c16-4947-96d2-0c425a1be758",
   "metadata": {
    "editable": true,
    "slideshow": {
     "slide_type": "subslide"
    },
    "tags": []
   },
   "source": [
    "### `NAT_traversal`"
   ]
  },
  {
   "cell_type": "code",
   "execution_count": null,
   "id": "7494a38e-cd24-4708-8d2c-e83ba26bcbd8",
   "metadata": {
    "editable": true,
    "slideshow": {
     "slide_type": "fragment"
    },
    "tags": []
   },
   "outputs": [],
   "source": [
    "#!/usr/bin/env python\n",
    "# PYTHON_ARGCOMPLETE_OK\n",
    "\n",
    "import minimal\n",
    "import stun\n",
    "\n",
    "class NAT_Traversal(minimal.Minimal):\n",
    "\n",
    "    endPoints = []\n",
    "\n",
    "    def NAT_STUN():\n",
    "            with open(\"lista_ip.txt\") as archivo:\n",
    "                for linea in archivo:\n",
    "                    ip = linea.strip()\n",
    "                    nat_type, external_ip, external_port = stun.get_ip_info(stun_host=ip)\n",
    "                    print(f\"Puerto Externo: {external_port}, \"\n",
    "                          f\"IP Externa: {external_ip}, \"\n",
    "                          f\"End-Point: {external_ip}:{external_port}, \"\n",
    "                          f\"Tipo de NAT: {nat_type}\")\n",
    "                    endPoint = (external_ip, external_port)\n",
    "                    if (type(external_ip)==int and type(external_port)==int):\n",
    "                        NAT_Traversal.endPoints.append(endPoint)\n",
    "            archivo.close()\n",
    "    \n",
    "    def NAT_TYPE():\n",
    "            if all(endPoint == NAT_Traversal.endPoints[0] for endPoint in NAT_Traversal.endPoints):\n",
    "                print(\"NAT abierto (Full Cone)\")\n",
    "                print(\"Puede establecer conexion con otro dispositivo. Para ello ejecute el siguiente comando: \n",
    "                       python3 NAT-traversal -l \\'puerto de escucha\\' -a \\'ip de destino\\' -p \\'puerto de destino\\'\")     \n",
    "            else:\n",
    "                print(\"NAT simetrico\")\n",
    "                print(\"No puede establecer conexion con otro dispositivo.\")\n",
    "    \n",
    "    def __init__(self):\n",
    "        \n",
    "        ''' Constructor. Basically initializes the sockets stuff. '''\n",
    "        super().__init__()\n",
    "\n",
    "if __name__ == \"__main__\":\n",
    "     \n",
    "    minimal.args = minimal.parser.parse_args()\n",
    "\n",
    "    if minimal.args.listening_port != 4444 and minimal.args.destination_address != \"localhost\" and minimal.args.destination_port != 4444:\n",
    "        intercom = NAT_Traversal()\n",
    "        try:\n",
    "            intercom.run()\n",
    "        except KeyboardInterrupt:\n",
    "            minimal.parser.exit(\"\\nSIGINT received\")\n",
    "        finally:\n",
    "            intercom.print_final_averages()\n",
    "    else:\n",
    "        NAT_Traversal.NAT_STUN()\n",
    "        NAT_Traversal.NAT_TYPE()\n",
    "        quit()"
   ]
  },
  {
   "cell_type": "markdown",
   "id": "7c0f379f-1d50-4875-a286-cc7ea9ae6228",
   "metadata": {
    "editable": true,
    "slideshow": {
     "slide_type": "subslide"
    },
    "tags": []
   },
   "source": [
    "## Ejecución\n",
    "\n",
    "El código principal inicia la ejecución con las siguientes opciones:\n",
    "\n",
    "- Si no se proporcionan, se ejecuta la función `NAT_STUN()` y se determina el tipo de NAT.\n",
    "- Si se proporcionan puertos y direcciones personalizados, se ejecuta la comunicación de audio.\n",
    "---\n"
   ]
  },
  {
   "cell_type": "markdown",
   "id": "9fa2f962-9484-4d19-a092-fdfda55b1123",
   "metadata": {
    "editable": true,
    "slideshow": {
     "slide_type": "subslide"
    },
    "tags": []
   },
   "source": [
    "Ejecutamos NAT_traversal de manera local:"
   ]
  },
  {
   "cell_type": "code",
   "execution_count": 14,
   "id": "319d85d8-8e4b-4b1f-8b51-863de0dbd13c",
   "metadata": {
    "editable": true,
    "slideshow": {
     "slide_type": "fragment"
    },
    "tags": []
   },
   "outputs": [
    {
     "name": "stdout",
     "output_type": "stream",
     "text": [
      "Puerto Externo: 54320, IP Externa: 217.216.183.232, End-Point: 217.216.183.232:54320, Tipo de NAT: Full Cone\n",
      "Puerto Externo: 54320, IP Externa: 217.216.183.232, End-Point: 217.216.183.232:54320, Tipo de NAT: Full Cone\n",
      "Puerto Externo: 54320, IP Externa: 217.216.183.232, End-Point: 217.216.183.232:54320, Tipo de NAT: Full Cone\n",
      "Puerto Externo: 54320, IP Externa: 217.216.183.232, End-Point: 217.216.183.232:54320, Tipo de NAT: Full Cone\n",
      "Puerto Externo: 54320, IP Externa: 217.216.183.232, End-Point: 217.216.183.232:54320, Tipo de NAT: Full Cone\n",
      "Puerto Externo: 54320, IP Externa: 217.216.183.232, End-Point: 217.216.183.232:54320, Tipo de NAT: Full Cone\n",
      "Puerto Externo: 54320, IP Externa: 217.216.183.232, End-Point: 217.216.183.232:54320, Tipo de NAT: Full Cone\n",
      "Puerto Externo: None, IP Externa: None, End-Point: None:None, Tipo de NAT: Blocked\n",
      "NAT abierto (Full Cone)\n",
      "Puede establecer conexion con otro dispositivo. Para ello ejecute el siguiente comando: python3 NAT-traversal -l 'puerto de escucha' -a 'ip de destino' -p 'puerto de destino'\n"
     ]
    }
   ],
   "source": [
    "import os\n",
    "os.chdir('/home/javier/Escritorio/NAT')\n",
    "!python3 NAT_traversal.py"
   ]
  },
  {
   "cell_type": "markdown",
   "id": "f2b18b78-71eb-4508-ab80-d9a3237b9129",
   "metadata": {
    "editable": true,
    "slideshow": {
     "slide_type": "subslide"
    },
    "tags": []
   },
   "source": [
    "Intercambiamos datos y ejecutamos el siguiente comando para comunicarnos:"
   ]
  },
  {
   "cell_type": "code",
   "execution_count": 1,
   "id": "82dbc2d5-ed03-463f-a2a1-0f97a3105bf5",
   "metadata": {
    "editable": true,
    "slideshow": {
     "slide_type": "fragment"
    },
    "tags": []
   },
   "outputs": [
    {
     "name": "stdout",
     "output_type": "stream",
     "text": [
      "(INFO) minimal: A minimal InterCom (no compression, no quantization, no transform, ... only provides a bidirectional (full-duplex) transmission of raw (playable) chunks. \n",
      "(INFO) minimal: NUMBER_OF_CHANNELS = 2\n",
      "(INFO) minimal: chunk_time = 0.023219954648526078 seconds\n",
      "(INFO) minimal: Press enter-key to quit\n",
      "^C\n",
      "\n",
      "SIGINT received\n"
     ]
    }
   ],
   "source": [
    "import os\n",
    "os.chdir('/home/javier/Escritorio/NAT')\n",
    "!python3 NAT_traversal.py -l 54320 -a 85.60.199.122 -p 54320"
   ]
  }
 ],
 "metadata": {
  "kernelspec": {
   "display_name": "Python 3 (ipykernel)",
   "language": "python",
   "name": "python3"
  },
  "language_info": {
   "codemirror_mode": {
    "name": "ipython",
    "version": 3
   },
   "file_extension": ".py",
   "mimetype": "text/x-python",
   "name": "python",
   "nbconvert_exporter": "python",
   "pygments_lexer": "ipython3",
   "version": "3.10.12"
  }
 },
 "nbformat": 4,
 "nbformat_minor": 5
}
